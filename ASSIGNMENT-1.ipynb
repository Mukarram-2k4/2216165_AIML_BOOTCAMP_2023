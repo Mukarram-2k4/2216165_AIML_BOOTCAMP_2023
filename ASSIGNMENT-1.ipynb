{
  "cells": [
    {
      "cell_type": "markdown",
      "metadata": {
        "id": "view-in-github",
        "colab_type": "text"
      },
      "source": [
        "<a href=\"https://colab.research.google.com/github/Mukarram-2k4/2216165_AIML_BOOTCAMP_2023/blob/main/ASSIGNMENT-1.ipynb\" target=\"_parent\"><img src=\"https://colab.research.google.com/assets/colab-badge.svg\" alt=\"Open In Colab\"/></a>"
      ]
    },
    {
      "cell_type": "code",
      "execution_count": null,
      "metadata": {
        "colab": {
          "base_uri": "https://localhost:8080/"
        },
        "id": "pLl5xiuJx915",
        "outputId": "5b2dd8b1-6c31-468d-ab68-3953f9f6876d"
      },
      "outputs": [
        {
          "name": "stdout",
          "output_type": "stream",
          "text": [
            "Iam a human\n",
            "IAM A HUMAN\n",
            "iam a human\n",
            "3\n",
            "6\n",
            "2\n",
            "     iam a human      \n",
            "iam a human being\n"
          ]
        }
      ],
      "source": [
        "#1\n",
        "#string methods\n",
        "s1=\"iam a human\"\n",
        "print(s1.capitalize())\n",
        "print(s1.upper())\n",
        "print(s1.lower())\n",
        "print(s1.count(\"a\"))\n",
        "print(s1.find('h'))\n",
        "print(s1.index('m'))\n",
        "print(s1.center(22))\n",
        "print(\"{} being\".format(s1))"
      ]
    },
    {
      "cell_type": "code",
      "execution_count": null,
      "metadata": {
        "colab": {
          "base_uri": "https://localhost:8080/"
        },
        "id": "DWf32Lrm3ENM",
        "outputId": "249652bc-52df-454c-ab20-f5e39578d46d"
      },
      "outputs": [
        {
          "name": "stdout",
          "output_type": "stream",
          "text": [
            "[28, 30, 15, 11, 'human']\n",
            "[]\n",
            "[28, 30, 15, 11, 'humans', 'cars', 'animals']\n",
            "1\n",
            "['animals', 'cars', 'humans', 11, 15, 30, 28]\n",
            "['animals', 'cars', 'humans', 11, 15, 28]\n",
            "['animals', 'cars', 'humans', 11, 28]\n",
            "[11, 15, 28, 30]\n",
            "[11, 18, 15, 28, 30]\n",
            "0\n"
          ]
        }
      ],
      "source": [
        "#2\n",
        "#List methods\n",
        "l1=[28,30,15,11]\n",
        "l1.append(\"human\")\n",
        "print(l1)\n",
        "l1.clear()\n",
        "print(l1)\n",
        "l1=[28,30,15,11]\n",
        "l2=['humans','cars','animals']\n",
        "l1.extend(l2)\n",
        "print(l1)\n",
        "print(l1.count(30))\n",
        "l1.reverse()\n",
        "print(l1)\n",
        "l1.pop(5)\n",
        "print(l1)\n",
        "l1.remove(15)\n",
        "print(l1)\n",
        "l1=[28,30,15,11]\n",
        "l1.sort()\n",
        "print(l1)\n",
        "l1.insert(1,18)\n",
        "print(l1)\n",
        "x=l1.index(11)\n",
        "print(x)"
      ]
    },
    {
      "cell_type": "code",
      "execution_count": null,
      "metadata": {
        "colab": {
          "base_uri": "https://localhost:8080/"
        },
        "id": "Txpd-89HBVk1",
        "outputId": "0f34c1ce-f14c-402b-a3bc-77a123fbd6f9"
      },
      "outputs": [
        {
          "name": "stdout",
          "output_type": "stream",
          "text": [
            "2\n",
            "2\n",
            "44\n",
            "11\n",
            "5\n"
          ]
        }
      ],
      "source": [
        "#3\n",
        "#tuple methods\n",
        "tup1=(11,22,33,44,11)\n",
        "print(tup1.count(11))\n",
        "print(tup1.index(33))\n",
        "\n",
        "print(max(tup1))\n",
        "print(min(tup1))\n",
        "print(len(tup1))"
      ]
    },
    {
      "cell_type": "code",
      "execution_count": null,
      "metadata": {
        "colab": {
          "base_uri": "https://localhost:8080/"
        },
        "id": "ACBPA29-CQ_-",
        "outputId": "a2fdd8d9-b28b-4829-959c-45cb2e386689"
      },
      "outputs": [
        {
          "name": "stdout",
          "output_type": "stream",
          "text": [
            "car\n",
            "dict_keys(['obj', 101])\n",
            "dict_values(['car', 'BMW'])\n",
            "car\n",
            "BMW\n"
          ]
        }
      ],
      "source": [
        "#4\n",
        "#dictionariy methods\n",
        "\n",
        "dict1={\"obj\":\"car\",101:\"BMW\"}\n",
        "print(dict1[\"obj\"])\n",
        "print(dict1.keys())\n",
        "print(dict1.values())\n",
        "print(dict1.get(\"obj\"))\n",
        "print(dict1.get(101))"
      ]
    },
    {
      "cell_type": "code",
      "execution_count": null,
      "metadata": {
        "colab": {
          "base_uri": "https://localhost:8080/"
        },
        "id": "QqURZWNKjVPP",
        "outputId": "72ab04af-7873-4397-eb2d-1960eed20c51"
      },
      "outputs": [
        {
          "name": "stdout",
          "output_type": "stream",
          "text": [
            "{40, 9, 10, 20, 30}\n",
            "{40, 9, 10, 50, 20, 60, 30}\n",
            "{40, 10, 50, 20, 60, 30}\n",
            "{40, 50, 20, 60, 30}\n"
          ]
        }
      ],
      "source": [
        "#5\n",
        "#set methods\n",
        "set1={10,20,30,40}\n",
        "set1.add(9)\n",
        "print(set1)\n",
        "set1.update([50,60])\n",
        "print(set1)\n",
        "set1.discard(9)\n",
        "print(set1)\n",
        "set1.remove(10)\n",
        "print(set1)"
      ]
    },
    {
      "cell_type": "code",
      "execution_count": null,
      "metadata": {
        "colab": {
          "base_uri": "https://localhost:8080/"
        },
        "id": "AvQNkZnvk6KK",
        "outputId": "0f12d760-4a25-4537-8853-ee54a0faef55"
      },
      "outputs": [
        {
          "name": "stdout",
          "output_type": "stream",
          "text": [
            "0b1100010010\n",
            "0x312\n",
            "0o1422\n"
          ]
        }
      ],
      "source": [
        "#6\n",
        "#convert Decimal to Binary, Octal and Hexadecimal \n",
        "\n",
        "x=786\n",
        "print(bin(x))\n",
        "\n",
        "print(hex(x))\n",
        "\n",
        "print(oct(x))"
      ]
    },
    {
      "cell_type": "code",
      "execution_count": null,
      "metadata": {
        "colab": {
          "base_uri": "https://localhost:8080/"
        },
        "id": "obioA8Axlvcr",
        "outputId": "8ef46dfe-99a2-4826-b545-b6c9f34403a5"
      },
      "outputs": [
        {
          "name": "stdout",
          "output_type": "stream",
          "text": [
            "95\n",
            "81\n",
            "616\n",
            "12.571428571428571\n",
            "12\n",
            "40867559636992\n",
            "0\n"
          ]
        }
      ],
      "source": [
        "#7\n",
        "#arithmetic operators\n",
        "x=88\n",
        "y=7\n",
        "print(x+y)\n",
        "print(x-y)\n",
        "print(x*y)\n",
        "print(x/y)\n",
        "print(x//y)\n",
        "print(x**y)\n",
        "print(x&y)"
      ]
    },
    {
      "cell_type": "code",
      "execution_count": null,
      "metadata": {
        "colab": {
          "base_uri": "https://localhost:8080/"
        },
        "id": "o8C1O8pTmF2Q",
        "outputId": "b9ddd6c6-6ac4-4bc3-bf7d-832a10657087"
      },
      "outputs": [
        {
          "name": "stdout",
          "output_type": "stream",
          "text": [
            "165\n",
            "77\n",
            "154\n"
          ]
        }
      ],
      "source": [
        "#8\n",
        "#assignment operators\n",
        "a=88\n",
        "b=77\n",
        "z=a+b\n",
        "print(z)\n",
        "z=z-a\n",
        "print(z)\n",
        "z=z+b\n",
        "print(z)"
      ]
    },
    {
      "cell_type": "code",
      "execution_count": null,
      "metadata": {
        "colab": {
          "base_uri": "https://localhost:8080/"
        },
        "id": "kFL3OlKdmI6j",
        "outputId": "56b9a03d-9d10-4d9e-a9c6-c481c5bececf"
      },
      "outputs": [
        {
          "name": "stdout",
          "output_type": "stream",
          "text": [
            "False\n",
            "False\n",
            "True\n",
            "False\n",
            "True\n",
            "True\n"
          ]
        }
      ],
      "source": [
        "#9\n",
        "#comparision operators\n",
        "a=88\n",
        "b=77\n",
        "print(a==b)\n",
        "print(a<=b)\n",
        "print(a>=b)\n",
        "print(a<b)\n",
        "print(a>b)\n",
        "print(a!=b)"
      ]
    },
    {
      "cell_type": "code",
      "execution_count": 2,
      "metadata": {
        "colab": {
          "base_uri": "https://localhost:8080/"
        },
        "id": "PyJqsNAmmOJb",
        "outputId": "75a53ca4-77b8-4dec-9146-68e0717c0a33"
      },
      "outputs": [
        {
          "output_type": "stream",
          "name": "stdout",
          "text": [
            "True\n",
            "True\n",
            "False\n"
          ]
        }
      ],
      "source": [
        "#10\n",
        "#logical operators\n",
        "x=5\n",
        "y=6\n",
        "print(x<6 and x>2)\n",
        "print(y<6 or y>2)\n",
        "print(not y)"
      ]
    },
    {
      "cell_type": "code",
      "execution_count": 3,
      "metadata": {
        "id": "3VE0w8JimRle",
        "colab": {
          "base_uri": "https://localhost:8080/"
        },
        "outputId": "f1ddabb7-1eea-407b-bdaf-4224f48ad000"
      },
      "outputs": [
        {
          "output_type": "stream",
          "name": "stdout",
          "text": [
            "64\n",
            "123\n",
            "-99\n",
            "59\n",
            "24\n",
            "198\n"
          ]
        }
      ],
      "source": [
        "#11\n",
        "#bitwise operators\n",
        "a=99\n",
        "b=88\n",
        "print(a&b)#and\n",
        "print(a|b)#or\n",
        "print(-a)#not\n",
        "print(a^b)#xor\n",
        "print(a>>2)#right shift\n",
        "print(a<<1)#left shift"
      ]
    },
    {
      "cell_type": "code",
      "execution_count": 1,
      "metadata": {
        "id": "gtjFfKEBmUKX",
        "colab": {
          "base_uri": "https://localhost:8080/"
        },
        "outputId": "e7de6d9d-5837-4fd5-b40c-0ea5ddb63fb3"
      },
      "outputs": [
        {
          "output_type": "stream",
          "name": "stdout",
          "text": [
            "True\n",
            "True\n"
          ]
        }
      ],
      "source": [
        "#12\n",
        "#membership operators\n",
        "x=\"VIRAT KOHLI\"\n",
        "print(\"V\"in x)\n",
        "print(\"VK\"not in x)"
      ]
    },
    {
      "cell_type": "code",
      "execution_count": 5,
      "metadata": {
        "id": "VjICfNNjmWjO",
        "colab": {
          "base_uri": "https://localhost:8080/"
        },
        "outputId": "0a68a99e-b877-4962-fc05-38b1f61d13b1"
      },
      "outputs": [
        {
          "output_type": "stream",
          "name": "stdout",
          "text": [
            "True\n",
            "True\n",
            "False\n"
          ]
        }
      ],
      "source": [
        "#13\n",
        "#identity operators\n",
        "x1=\"sru\"\n",
        "y1=\"hackathon\"\n",
        "x2=77\n",
        "y2=88\n",
        "x3=[7,8,9]\n",
        "y3=[7,8,9]\n",
        "print(x1 is not y1)\n",
        "\n",
        "print(x2 is not y2)\n",
        "\n",
        "print(x3 is  y3)"
      ]
    },
    {
      "cell_type": "code",
      "execution_count": 6,
      "metadata": {
        "id": "aTas37_HmZLB",
        "colab": {
          "base_uri": "https://localhost:8080/"
        },
        "outputId": "edb50401-e9c9-43f7-e055-1e591b76e822"
      },
      "outputs": [
        {
          "output_type": "stream",
          "name": "stdout",
          "text": [
            "28\n",
            "cars\n",
            "['humans', 11, 15]\n",
            "[]\n"
          ]
        }
      ],
      "source": [
        "#14\n",
        "#negative indexing and slicing of lists\n",
        "list1=['animals', 'cars', 'humans', 11, 15, 30, 28]\n",
        "print(list1[-1])\n",
        "print(list1[-6])\n",
        "print(list1[2:5])\n",
        "print(list1[-3:-6])\n"
      ]
    },
    {
      "cell_type": "code",
      "execution_count": 7,
      "metadata": {
        "id": "XQiycX6nmdFV",
        "colab": {
          "base_uri": "https://localhost:8080/"
        },
        "outputId": "8b344b56-b6b4-4313-ff14-bdfc6e1d271a"
      },
      "outputs": [
        {
          "output_type": "stream",
          "name": "stdout",
          "text": [
            "taawkcbe  tgerca  is\n",
            "-----------\n",
            "ot emoc\n"
          ]
        }
      ],
      "source": [
        "#15\n",
        "print(\"A series of character designated as one object known as a string\"[::-1][4::3])#here first [::-1] reverses the string and then [4::3] prints a letter starting from index four at a step of 3\n",
        "print(\"-----------\")\n",
        "print(\"welcome to python training program\"[3:10][::-1])#here [3:10] prints the string starting from index position 3 and ending at and then [::-1] reverses the string\n"
      ]
    },
    {
      "cell_type": "code",
      "execution_count": 8,
      "metadata": {
        "id": "P5BSGPFfmfDZ",
        "colab": {
          "base_uri": "https://localhost:8080/"
        },
        "outputId": "df0e5148-360b-4028-ad0b-c6ec7b0a34a0"
      },
      "outputs": [
        {
          "output_type": "stream",
          "name": "stdout",
          "text": [
            "WAS I TAC A RO RAC A TI SAW\n"
          ]
        }
      ],
      "source": [
        "#16\n",
        "p_phrase=\"was it a car or a cat i saw\"\n",
        "print(p_phrase.upper()[::-1])"
      ]
    },
    {
      "cell_type": "code",
      "execution_count": 9,
      "metadata": {
        "id": "PXOU-GmimhtS",
        "colab": {
          "base_uri": "https://localhost:8080/"
        },
        "outputId": "8ef1c1fb-b931-4892-e05e-899a5bc63dce"
      },
      "outputs": [
        {
          "output_type": "stream",
          "name": "stdout",
          "text": [
            "3\n",
            "zzzoooooo\n"
          ]
        }
      ],
      "source": [
        "#17\n",
        "x=int(input(\"\"))\n",
        "y=2*x\n",
        "print(x*'z'+y*'o')"
      ]
    }
  ],
  "metadata": {
    "colab": {
      "provenance": [],
      "authorship_tag": "ABX9TyPXnhCUAHesyEhcDmL1/JzY",
      "include_colab_link": true
    },
    "kernelspec": {
      "display_name": "Python 3",
      "name": "python3"
    },
    "language_info": {
      "name": "python"
    }
  },
  "nbformat": 4,
  "nbformat_minor": 0
}